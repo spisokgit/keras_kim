{
 "cells": [
  {
   "cell_type": "code",
   "execution_count": 1,
   "metadata": {},
   "outputs": [
    {
     "name": "stderr",
     "output_type": "stream",
     "text": [
      "Using TensorFlow backend.\n"
     ]
    }
   ],
   "source": [
    "# 0. 사용할 패키지 불러오기\n",
    "from keras.datasets import reuters\n",
    "from keras.utils import np_utils\n",
    "from keras.preprocessing import sequence\n",
    "from keras.models import Sequential\n",
    "from keras.layers import Dense, Embedding\n",
    "from keras.layers import Flatten\n",
    "\n",
    "max_features = 15000\n",
    "text_max_words = 120\n",
    "\n",
    "# 1. 데이터셋 생성하기\n",
    "\n",
    "# 훈련셋과 시험셋 불러오기\n",
    "(x_train, y_train), (x_test, y_test) = reuters.load_data(num_words=max_features)\n",
    "\n",
    "# 훈련셋과 검증셋 분리\n",
    "x_val = x_train[7000:]\n",
    "y_val = y_train[7000:]\n",
    "x_train = x_train[:7000]\n",
    "y_train = y_train[:7000]\n",
    "\n",
    "# 데이터셋 전처리 : 문장 길이 맞추기\n",
    "x_train = sequence.pad_sequences(x_train, maxlen=text_max_words)\n",
    "x_val = sequence.pad_sequences(x_val, maxlen=text_max_words)\n",
    "x_test = sequence.pad_sequences(x_test, maxlen=text_max_words)\n",
    "\n",
    "# one-hot 인코딩\n",
    "y_train = np_utils.to_categorical(y_train)\n",
    "y_val = np_utils.to_categorical(y_val)\n",
    "y_test = np_utils.to_categorical(y_test)"
   ]
  },
  {
   "cell_type": "markdown",
   "metadata": {},
   "source": [
    "# MLP"
   ]
  },
  {
   "cell_type": "code",
   "execution_count": 2,
   "metadata": {},
   "outputs": [
    {
     "name": "stderr",
     "output_type": "stream",
     "text": [
      "/usr/local/lib/python3.6/dist-packages/tensorflow_core/python/framework/indexed_slices.py:424: UserWarning: Converting sparse IndexedSlices to a dense Tensor of unknown shape. This may consume a large amount of memory.\n",
      "  \"Converting sparse IndexedSlices to a dense Tensor of unknown shape. \"\n"
     ]
    },
    {
     "name": "stdout",
     "output_type": "stream",
     "text": [
      "Train on 7000 samples, validate on 1982 samples\n",
      "Epoch 1/10\n",
      "7000/7000 [==============================] - 1s 167us/step - loss: 1.9028 - accuracy: 0.5274 - val_loss: 1.4655 - val_accuracy: 0.6589\n",
      "Epoch 2/10\n",
      "7000/7000 [==============================] - 1s 126us/step - loss: 0.8164 - accuracy: 0.8180 - val_loss: 1.2896 - val_accuracy: 0.7013\n",
      "Epoch 3/10\n",
      "7000/7000 [==============================] - 1s 130us/step - loss: 0.2713 - accuracy: 0.9500 - val_loss: 1.4160 - val_accuracy: 0.6847\n",
      "Epoch 4/10\n",
      "7000/7000 [==============================] - 1s 134us/step - loss: 0.1849 - accuracy: 0.9619 - val_loss: 1.3713 - val_accuracy: 0.6902\n",
      "Epoch 5/10\n",
      "7000/7000 [==============================] - 1s 126us/step - loss: 0.1550 - accuracy: 0.9633 - val_loss: 1.3889 - val_accuracy: 0.6837\n",
      "Epoch 6/10\n",
      "7000/7000 [==============================] - 1s 125us/step - loss: 0.1308 - accuracy: 0.9639 - val_loss: 1.3712 - val_accuracy: 0.6892\n",
      "Epoch 7/10\n",
      "7000/7000 [==============================] - 1s 128us/step - loss: 0.1245 - accuracy: 0.9624 - val_loss: 1.3794 - val_accuracy: 0.6973\n",
      "Epoch 8/10\n",
      "7000/7000 [==============================] - 1s 132us/step - loss: 0.1160 - accuracy: 0.9624 - val_loss: 1.3880 - val_accuracy: 0.6932\n",
      "Epoch 9/10\n",
      "7000/7000 [==============================] - 1s 132us/step - loss: 0.1018 - accuracy: 0.9623 - val_loss: 1.4192 - val_accuracy: 0.6917\n",
      "Epoch 10/10\n",
      "7000/7000 [==============================] - 1s 129us/step - loss: 0.0991 - accuracy: 0.9626 - val_loss: 1.4716 - val_accuracy: 0.6781\n"
     ]
    },
    {
     "data": {
      "image/png": "[encoded data removed]",
      "text/plain": [
       "<Figure size 432x288 with 2 Axes>"
      ]
     },
     "metadata": {
      "needs_background": "light"
     },
     "output_type": "display_data"
    },
    {
     "name": "stdout",
     "output_type": "stream",
     "text": [
      "2246/2246 [==============================] - 0s 25us/step\n",
      "## evaluation loss and_metrics ##\n",
      "[1.5135231283447728, 0.6691896915435791]\n"
     ]
    }
   ],
   "source": [
    "from keras.datasets import reuters\n",
    "from keras.utils import np_utils\n",
    "from keras.preprocessing import sequence\n",
    "from keras.models import Sequential\n",
    "from keras.layers import Dense, Embedding\n",
    "from keras.layers import Flatten\n",
    "# 2. 모델 구성하기\n",
    "model = Sequential()\n",
    "model.add(Embedding(max_features, 128, input_length=text_max_words))\n",
    "model.add(Flatten())\n",
    "model.add(Dense(256, activation='relu'))\n",
    "model.add(Dense(46, activation='softmax'))\n",
    "\n",
    "# 3. 모델 학습과정 설정하기\n",
    "model.compile(loss='categorical_crossentropy', optimizer='adam', metrics=['accuracy'])\n",
    "\n",
    "# 4. 모델 학습시키기\n",
    "hist = model.fit(x_train, y_train, epochs=10, batch_size=64, validation_data=(x_val, y_val))\n",
    "\n",
    "# 5. 학습과정 살펴보기\n",
    "%matplotlib inline\n",
    "import matplotlib.pyplot as plt\n",
    "\n",
    "fig, loss_ax = plt.subplots()\n",
    "\n",
    "acc_ax = loss_ax.twinx()\n",
    "\n",
    "loss_ax.plot(hist.history['loss'], 'y', label='train loss')\n",
    "loss_ax.plot(hist.history['val_loss'], 'r', label='val loss')\n",
    "loss_ax.set_ylim([0.0, 3.0])\n",
    "\n",
    "acc_ax.plot(hist.history['accuracy'], 'b', label='train acc')\n",
    "acc_ax.plot(hist.history['val_accuracy'], 'g', label='val acc')\n",
    "acc_ax.set_ylim([0.0, 1.0])\n",
    "\n",
    "loss_ax.set_xlabel('epoch')\n",
    "loss_ax.set_ylabel('loss')\n",
    "acc_ax.set_ylabel('accuray')\n",
    "\n",
    "loss_ax.legend(loc='upper left')\n",
    "acc_ax.legend(loc='lower left')\n",
    "\n",
    "plt.show()\n",
    "\n",
    "# 6. 모델 평가하기\n",
    "loss_and_metrics = model.evaluate(x_test, y_test, batch_size=64)\n",
    "print('## evaluation loss and_metrics ##')\n",
    "print(loss_and_metrics)"
   ]
  },
  {
   "cell_type": "markdown",
   "metadata": {},
   "source": [
    "# LSTM"
   ]
  },
  {
   "cell_type": "code",
   "execution_count": 5,
   "metadata": {},
   "outputs": [
    {
     "name": "stderr",
     "output_type": "stream",
     "text": [
      "/usr/local/lib/python3.6/dist-packages/tensorflow_core/python/framework/indexed_slices.py:424: UserWarning: Converting sparse IndexedSlices to a dense Tensor of unknown shape. This may consume a large amount of memory.\n",
      "  \"Converting sparse IndexedSlices to a dense Tensor of unknown shape. \"\n"
     ]
    },
    {
     "name": "stdout",
     "output_type": "stream",
     "text": [
      "Train on 7000 samples, validate on 1982 samples\n",
      "Epoch 1/10\n",
      "7000/7000 [==============================] - 6s 918us/step - loss: 2.4623 - accuracy: 0.3750 - val_loss: 1.9934 - val_accuracy: 0.4879\n",
      "Epoch 2/10\n",
      "7000/7000 [==============================] - 6s 893us/step - loss: 1.9182 - accuracy: 0.4904 - val_loss: 2.0206 - val_accuracy: 0.4864\n",
      "Epoch 3/10\n",
      "7000/7000 [==============================] - 6s 891us/step - loss: 1.7818 - accuracy: 0.5260 - val_loss: 2.0708 - val_accuracy: 0.5192\n",
      "Epoch 4/10\n",
      "7000/7000 [==============================] - 6s 894us/step - loss: 1.5215 - accuracy: 0.6000 - val_loss: 1.5884 - val_accuracy: 0.5923\n",
      "Epoch 5/10\n",
      "7000/7000 [==============================] - 6s 888us/step - loss: 1.3180 - accuracy: 0.6514 - val_loss: 1.5221 - val_accuracy: 0.6221\n",
      "Epoch 6/10\n",
      "7000/7000 [==============================] - 6s 891us/step - loss: 1.1056 - accuracy: 0.7051 - val_loss: 1.4535 - val_accuracy: 0.6443\n",
      "Epoch 7/10\n",
      "7000/7000 [==============================] - 6s 890us/step - loss: 0.9275 - accuracy: 0.7581 - val_loss: 1.4849 - val_accuracy: 0.6367\n",
      "Epoch 8/10\n",
      "7000/7000 [==============================] - 6s 902us/step - loss: 0.7695 - accuracy: 0.7984 - val_loss: 1.4969 - val_accuracy: 0.6559\n",
      "Epoch 9/10\n",
      "7000/7000 [==============================] - 6s 874us/step - loss: 0.6433 - accuracy: 0.8306 - val_loss: 1.5478 - val_accuracy: 0.6509\n",
      "Epoch 10/10\n",
      "7000/7000 [==============================] - 6s 886us/step - loss: 0.5484 - accuracy: 0.8564 - val_loss: 1.5918 - val_accuracy: 0.6514\n"
     ]
    },
    {
     "data": {
      "image/png": "[encoded data removed]",
      "text/plain": [
       "<Figure size 432x288 with 2 Axes>"
      ]
     },
     "metadata": {
      "needs_background": "light"
     },
     "output_type": "display_data"
    },
    {
     "name": "stdout",
     "output_type": "stream",
     "text": [
      "2246/2246 [==============================] - 0s 192us/step\n",
      "## evaluation loss and_metrics ##\n",
      "[1.7004080791082747, 0.6291184425354004]\n"
     ]
    }
   ],
   "source": [
    "from keras.datasets import reuters\n",
    "from keras.utils import np_utils\n",
    "from keras.preprocessing import sequence\n",
    "from keras.models import Sequential\n",
    "from keras.layers import Dense, Embedding, LSTM\n",
    "from keras.layers import Flatten\n",
    "\n",
    "#2. 모델 구성하기\n",
    "model = Sequential()\n",
    "model.add(Embedding(max_features, 128))\n",
    "model.add(LSTM(128))\n",
    "model.add(Dense(46, activation='softmax'))\n",
    "\n",
    "# 3. 모델 학습과정 설정하기\n",
    "model.compile(loss='categorical_crossentropy', optimizer='adam', metrics=['accuracy'])\n",
    "\n",
    "# 4. 모델 학습시키기\n",
    "hist = model.fit(x_train, y_train, epochs=10, batch_size=64, validation_data=(x_val, y_val))\n",
    "\n",
    "# 5. 학습과정 살펴보기\n",
    "%matplotlib inline\n",
    "import matplotlib.pyplot as plt\n",
    "\n",
    "fig, loss_ax = plt.subplots()\n",
    "\n",
    "acc_ax = loss_ax.twinx()\n",
    "\n",
    "loss_ax.plot(hist.history['loss'], 'y', label='train loss')\n",
    "loss_ax.plot(hist.history['val_loss'], 'r', label='val loss')\n",
    "loss_ax.set_ylim([0.0, 3.0])\n",
    "\n",
    "acc_ax.plot(hist.history['accuracy'], 'b', label='train acc')\n",
    "acc_ax.plot(hist.history['val_accuracy'], 'g', label='val acc')\n",
    "acc_ax.set_ylim([0.0, 1.0])\n",
    "\n",
    "loss_ax.set_xlabel('epoch')\n",
    "loss_ax.set_ylabel('loss')\n",
    "acc_ax.set_ylabel('accuray')\n",
    "\n",
    "loss_ax.legend(loc='upper left')\n",
    "acc_ax.legend(loc='lower left')\n",
    "\n",
    "plt.show()\n",
    "\n",
    "# 6. 모델 평가하기\n",
    "loss_and_metrics = model.evaluate(x_test, y_test, batch_size=64)\n",
    "print('## evaluation loss and_metrics ##')\n",
    "print(loss_and_metrics)"
   ]
  },
  {
   "cell_type": "markdown",
   "metadata": {},
   "source": [
    "# CNN"
   ]
  },
  {
   "cell_type": "code",
   "execution_count": 7,
   "metadata": {},
   "outputs": [
    {
     "name": "stderr",
     "output_type": "stream",
     "text": [
      "/usr/local/lib/python3.6/dist-packages/tensorflow_core/python/framework/indexed_slices.py:424: UserWarning: Converting sparse IndexedSlices to a dense Tensor of unknown shape. This may consume a large amount of memory.\n",
      "  \"Converting sparse IndexedSlices to a dense Tensor of unknown shape. \"\n"
     ]
    },
    {
     "name": "stdout",
     "output_type": "stream",
     "text": [
      "Train on 7000 samples, validate on 1982 samples\n",
      "Epoch 1/10\n",
      "7000/7000 [==============================] - 2s 268us/step - loss: 2.3013 - accuracy: 0.4479 - val_loss: 1.7806 - val_accuracy: 0.5212\n",
      "Epoch 2/10\n",
      "7000/7000 [==============================] - 1s 130us/step - loss: 1.5940 - accuracy: 0.6157 - val_loss: 1.3412 - val_accuracy: 0.6811\n",
      "Epoch 3/10\n",
      "7000/7000 [==============================] - 1s 129us/step - loss: 1.2321 - accuracy: 0.7077 - val_loss: 1.1818 - val_accuracy: 0.7195\n",
      "Epoch 4/10\n",
      "7000/7000 [==============================] - 1s 127us/step - loss: 1.0108 - accuracy: 0.7579 - val_loss: 1.1165 - val_accuracy: 0.7457\n",
      "Epoch 5/10\n",
      "7000/7000 [==============================] - 1s 133us/step - loss: 0.7837 - accuracy: 0.8101 - val_loss: 1.0237 - val_accuracy: 0.7614\n",
      "Epoch 6/10\n",
      "7000/7000 [==============================] - 1s 132us/step - loss: 0.5919 - accuracy: 0.8551 - val_loss: 1.0373 - val_accuracy: 0.7619\n",
      "Epoch 7/10\n",
      "7000/7000 [==============================] - 1s 126us/step - loss: 0.4479 - accuracy: 0.8906 - val_loss: 1.0937 - val_accuracy: 0.7634\n",
      "Epoch 8/10\n",
      "7000/7000 [==============================] - 1s 126us/step - loss: 0.3429 - accuracy: 0.9133 - val_loss: 1.1537 - val_accuracy: 0.7669\n",
      "Epoch 9/10\n",
      "7000/7000 [==============================] - 1s 124us/step - loss: 0.2728 - accuracy: 0.9314 - val_loss: 1.1775 - val_accuracy: 0.7659\n",
      "Epoch 10/10\n",
      "7000/7000 [==============================] - 1s 124us/step - loss: 0.2267 - accuracy: 0.9426 - val_loss: 1.1797 - val_accuracy: 0.7780\n"
     ]
    },
    {
     "data": {
      "image/png": "[encoded data removed]",
      "text/plain": [
       "<Figure size 432x288 with 2 Axes>"
      ]
     },
     "metadata": {
      "needs_background": "light"
     },
     "output_type": "display_data"
    },
    {
     "name": "stdout",
     "output_type": "stream",
     "text": [
      "2246/2246 [==============================] - 0s 35us/step\n",
      "## evaluation loss and_metrics ##\n",
      "[1.29212456055231, 0.7515583038330078]\n"
     ]
    }
   ],
   "source": [
    "from keras.datasets import reuters\n",
    "from keras.utils import np_utils\n",
    "from keras.preprocessing import sequence\n",
    "from keras.models import Sequential\n",
    "from keras.layers import Dense, Embedding, LSTM\n",
    "from keras.layers import Flatten, Dropout\n",
    "from keras.layers import Conv1D, GlobalMaxPooling1D\n",
    "\n",
    "# 2. 모델 구성하기\n",
    "model = Sequential()\n",
    "model.add(Embedding(max_features, 128, input_length=text_max_words))\n",
    "model.add(Dropout(0.2))\n",
    "model.add(Conv1D(256,\n",
    "                 3,\n",
    "                 padding='valid',\n",
    "                 activation='relu',\n",
    "                 strides=1))\n",
    "model.add(GlobalMaxPooling1D())\n",
    "model.add(Dense(128, activation='relu'))\n",
    "model.add(Dropout(0.2))\n",
    "model.add(Dense(46, activation='softmax'))\n",
    "\n",
    "# 3. 모델 학습과정 설정하기\n",
    "model.compile(loss='categorical_crossentropy', optimizer='adam', metrics=['accuracy'])\n",
    "\n",
    "# 4. 모델 학습시키기\n",
    "hist = model.fit(x_train, y_train, epochs=10, batch_size=64, validation_data=(x_val, y_val))\n",
    "\n",
    "# 5. 학습과정 살펴보기\n",
    "%matplotlib inline\n",
    "import matplotlib.pyplot as plt\n",
    "\n",
    "fig, loss_ax = plt.subplots()\n",
    "\n",
    "acc_ax = loss_ax.twinx()\n",
    "\n",
    "loss_ax.plot(hist.history['loss'], 'y', label='train loss')\n",
    "loss_ax.plot(hist.history['val_loss'], 'r', label='val loss')\n",
    "loss_ax.set_ylim([0.0, 3.0])\n",
    "\n",
    "acc_ax.plot(hist.history['accuracy'], 'b', label='train acc')\n",
    "acc_ax.plot(hist.history['val_accuracy'], 'g', label='val acc')\n",
    "acc_ax.set_ylim([0.0, 1.0])\n",
    "\n",
    "loss_ax.set_xlabel('epoch')\n",
    "loss_ax.set_ylabel('loss')\n",
    "acc_ax.set_ylabel('accuray')\n",
    "\n",
    "loss_ax.legend(loc='upper left')\n",
    "acc_ax.legend(loc='lower left')\n",
    "\n",
    "plt.show()\n",
    "\n",
    "# 6. 모델 평가하기\n",
    "loss_and_metrics = model.evaluate(x_test, y_test, batch_size=64)\n",
    "print('## evaluation loss and_metrics ##')\n",
    "print(loss_and_metrics)"
   ]
  },
  {
   "cell_type": "markdown",
   "metadata": {},
   "source": [
    "# LSTM-CNN"
   ]
  },
  {
   "cell_type": "code",
   "execution_count": 8,
   "metadata": {},
   "outputs": [
    {
     "name": "stderr",
     "output_type": "stream",
     "text": [
      "/usr/local/lib/python3.6/dist-packages/tensorflow_core/python/framework/indexed_slices.py:424: UserWarning: Converting sparse IndexedSlices to a dense Tensor of unknown shape. This may consume a large amount of memory.\n",
      "  \"Converting sparse IndexedSlices to a dense Tensor of unknown shape. \"\n"
     ]
    },
    {
     "name": "stdout",
     "output_type": "stream",
     "text": [
      "Train on 7000 samples, validate on 1982 samples\n",
      "Epoch 1/10\n",
      "7000/7000 [==============================] - 3s 412us/step - loss: 2.1672 - accuracy: 0.4519 - val_loss: 1.7325 - val_accuracy: 0.5404\n",
      "Epoch 2/10\n",
      "7000/7000 [==============================] - 2s 352us/step - loss: 1.5633 - accuracy: 0.6007 - val_loss: 1.5021 - val_accuracy: 0.6206\n",
      "Epoch 3/10\n",
      "7000/7000 [==============================] - 2s 347us/step - loss: 1.2462 - accuracy: 0.6810 - val_loss: 1.3111 - val_accuracy: 0.6731\n",
      "Epoch 4/10\n",
      "7000/7000 [==============================] - 2s 348us/step - loss: 0.9983 - accuracy: 0.7459 - val_loss: 1.2672 - val_accuracy: 0.6887\n",
      "Epoch 5/10\n",
      "7000/7000 [==============================] - 3s 364us/step - loss: 0.8177 - accuracy: 0.7867 - val_loss: 1.2488 - val_accuracy: 0.7003\n",
      "Epoch 6/10\n",
      "7000/7000 [==============================] - 2s 355us/step - loss: 0.6771 - accuracy: 0.8259 - val_loss: 1.3467 - val_accuracy: 0.6847\n",
      "Epoch 7/10\n",
      "7000/7000 [==============================] - 2s 353us/step - loss: 0.5722 - accuracy: 0.8516 - val_loss: 1.3360 - val_accuracy: 0.7008\n",
      "Epoch 8/10\n",
      "7000/7000 [==============================] - 3s 359us/step - loss: 0.4761 - accuracy: 0.8759 - val_loss: 1.3609 - val_accuracy: 0.6968\n",
      "Epoch 9/10\n",
      "7000/7000 [==============================] - 2s 352us/step - loss: 0.3934 - accuracy: 0.9013 - val_loss: 1.3718 - val_accuracy: 0.7124\n",
      "Epoch 10/10\n",
      "7000/7000 [==============================] - 2s 354us/step - loss: 0.3319 - accuracy: 0.9201 - val_loss: 1.4516 - val_accuracy: 0.6988\n"
     ]
    },
    {
     "data": {
      "image/png": "[encoded data removed]",
      "text/plain": [
       "<Figure size 432x288 with 2 Axes>"
      ]
     },
     "metadata": {
      "needs_background": "light"
     },
     "output_type": "display_data"
    },
    {
     "name": "stdout",
     "output_type": "stream",
     "text": [
      "2246/2246 [==============================] - 0s 124us/step\n",
      "## evaluation loss and_metrics ##\n",
      "[1.5368656075011378, 0.6727515459060669]\n"
     ]
    }
   ],
   "source": [
    "from keras.datasets import reuters\n",
    "from keras.utils import np_utils\n",
    "from keras.preprocessing import sequence\n",
    "from keras.models import Sequential\n",
    "from keras.layers import Dense, Embedding, LSTM\n",
    "from keras.layers import Flatten, Dropout\n",
    "from keras.layers import Conv1D, MaxPooling1D\n",
    "# 2. 모델 구성하기\n",
    "model = Sequential()\n",
    "model.add(Embedding(max_features, 128, input_length=text_max_words))\n",
    "model.add(Dropout(0.2))\n",
    "model.add(Conv1D(256,\n",
    "                 3,\n",
    "                 padding='valid',\n",
    "                 activation='relu',\n",
    "                 strides=1))\n",
    "model.add(MaxPooling1D(pool_size=4))\n",
    "model.add(LSTM(128))\n",
    "model.add(Dense(46, activation='softmax'))\n",
    "\n",
    "# 3. 모델 학습과정 설정하기\n",
    "model.compile(loss='categorical_crossentropy', optimizer='adam', metrics=['accuracy'])\n",
    "\n",
    "# 4. 모델 학습시키기\n",
    "hist = model.fit(x_train, y_train, epochs=10, batch_size=64, validation_data=(x_val, y_val))\n",
    "\n",
    "# 5. 학습과정 살펴보기\n",
    "%matplotlib inline\n",
    "import matplotlib.pyplot as plt\n",
    "\n",
    "fig, loss_ax = plt.subplots()\n",
    "\n",
    "acc_ax = loss_ax.twinx()\n",
    "\n",
    "loss_ax.plot(hist.history['loss'], 'y', label='train loss')\n",
    "loss_ax.plot(hist.history['val_loss'], 'r', label='val loss')\n",
    "loss_ax.set_ylim([0.0, 3.0])\n",
    "\n",
    "acc_ax.plot(hist.history['accuracy'], 'b', label='train acc')\n",
    "acc_ax.plot(hist.history['val_accuracy'], 'g', label='val acc')\n",
    "acc_ax.set_ylim([0.0, 1.0])\n",
    "\n",
    "loss_ax.set_xlabel('epoch')\n",
    "loss_ax.set_ylabel('loss')\n",
    "acc_ax.set_ylabel('accuray')\n",
    "\n",
    "loss_ax.legend(loc='upper left')\n",
    "acc_ax.legend(loc='lower left')\n",
    "\n",
    "plt.show()\n",
    "\n",
    "# 6. 모델 평가하기\n",
    "loss_and_metrics = model.evaluate(x_test, y_test, batch_size=64)\n",
    "print('## evaluation loss and_metrics ##')\n",
    "print(loss_and_metrics)"
   ]
  },
  {
   "cell_type": "code",
   "execution_count": null,
   "metadata": {},
   "outputs": [],
   "source": []
  }
 ],
 "metadata": {
  "kernelspec": {
   "display_name": "Python 3",
   "language": "python",
   "name": "python3"
  },
  "language_info": {
   "codemirror_mode": {
    "name": "ipython",
    "version": 3
   },
   "file_extension": ".py",
   "mimetype": "text/x-python",
   "name": "python",
   "nbconvert_exporter": "python",
   "pygments_lexer": "ipython3",
   "version": "3.6.8"
  }
 },
 "nbformat": 4,
 "nbformat_minor": 2
}
